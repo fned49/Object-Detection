{
 "cells": [
  {
   "cell_type": "markdown",
   "metadata": {},
   "source": [
    "# IOU\n",
    "* IOU(Intersection over union)이란 두 영역의 교차영역의 넓이를 합영역의 값으로 나눈 값을 뜻합니다. \n",
    "* 객체 검출에서 예측된 경계 상자의 정확도를 평가하는 지표 중 하나로 사용되며, 예측된 경계 상자와 실제 참값(ground truth) 경계 상자의 IOU를 해당 경계 상자의 ‘정확도’로 간주합니다. \n",
    "* 객체 검출 모델의 정확도는 모델을 테스트용 데이터셋에서 실행해본 다음 정밀도-재현율 곡선(precision-recall curve)과 평균 정밀도(average precision)를 구해 수치화할 수 있는데, 이 과정에서 IOU 값이 사용됩니다.\n",
    "* 일반적으로 분류나 회귀과제에서 MAE나 MSE를 평가지표로 삼는 반면, object detection이나 segmentation의 경우 평가하기가 애매해서 통계학으로부터 자카드 지수라는 통계값을 가져왔습니다."
   ]
  },
  {
   "cell_type": "code",
   "execution_count": null,
   "metadata": {},
   "outputs": [],
   "source": []
  }
 ],
 "metadata": {
  "language_info": {
   "name": "python"
  }
 },
 "nbformat": 4,
 "nbformat_minor": 2
}
