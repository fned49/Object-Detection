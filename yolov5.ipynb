{
 "cells": [
  {
   "cell_type": "code",
   "execution_count": 1,
   "id": "7bb7dea7",
   "metadata": {},
   "outputs": [],
   "source": [
    "import torch\n",
    "from pathlib import Path"
   ]
  },
  {
   "cell_type": "code",
   "execution_count": 2,
   "id": "50cee54a",
   "metadata": {},
   "outputs": [
    {
     "name": "stdout",
     "output_type": "stream",
     "text": [
      "CUDA 사용 가능\n"
     ]
    }
   ],
   "source": [
    "# CUDA가 사용 가능한지 확인\n",
    "if torch.cuda.is_available():\n",
    "    device = torch.device(\"cuda\")\n",
    "    print(\"CUDA 사용 가능\")\n",
    "else:\n",
    "    device = torch.device(\"cpu\")\n",
    "    print(\"CUDA를 사용할 수 없습니다\")"
   ]
  },
  {
   "cell_type": "code",
   "execution_count": 3,
   "id": "c0ccfaab",
   "metadata": {},
   "outputs": [],
   "source": [
    "# 데이터셋 경로 설정\n",
    "data_path = Path('/home/fned/workspace/datasets/fish')"
   ]
  },
  {
   "cell_type": "code",
   "execution_count": 5,
   "id": "4105f8cb",
   "metadata": {},
   "outputs": [
    {
     "name": "stdout",
     "output_type": "stream",
     "text": [
      "Checking the dataset...\n",
      "Dataset not found. Please check your data directory.\n"
     ]
    }
   ],
   "source": [
    "# 데이터셋 검사\n",
    "print('Checking the dataset...')\n",
    "if not (data_path / 'train').exists() or not (data_path / 'valid').exists():\n",
    "    print(\"Dataset not found. Please check your data directory.\")\n",
    "else:\n",
    "    print(\"Dataset found.\")"
   ]
  },
  {
   "cell_type": "code",
   "execution_count": 25,
   "id": "b09ce12c",
   "metadata": {},
   "outputs": [
    {
     "name": "stdout",
     "output_type": "stream",
     "text": [
      "/home/fned/workspace/yolov5\n",
      "\u001b[34m\u001b[1mwandb\u001b[0m: WARNING ⚠️ wandb is deprecated and will be removed in a future release. See supported integrations at https://github.com/ultralytics/yolov5#integrations.\n",
      "\u001b[34m\u001b[1mwandb\u001b[0m: Currently logged in as: \u001b[33mfned49\u001b[0m (\u001b[33mfned\u001b[0m). Use \u001b[1m`wandb login --relogin`\u001b[0m to force relogin\n",
      "\u001b[34m\u001b[1mtrain: \u001b[0mweights=yolov5s.pt, cfg=models/yolov5s.yaml, data=/home/fned/workspace/datasets/fish/data.yaml, hyp=data/hyps/hyp.scratch-low.yaml, epochs=100, batch_size=16, imgsz=640, rect=False, resume=False, nosave=False, noval=False, noautoanchor=False, noplots=False, evolve=None, bucket=, cache=None, image_weights=False, device=, multi_scale=False, single_cls=False, optimizer=SGD, sync_bn=False, workers=8, project=runs/train, name=exp, exist_ok=False, quad=False, cos_lr=False, label_smoothing=0.0, patience=100, freeze=[0], save_period=-1, seed=0, local_rank=-1, entity=None, upload_dataset=False, bbox_interval=-1, artifact_alias=latest\n",
      "\u001b[34m\u001b[1mgithub: \u001b[0m⚠️ YOLOv5 is out of date by 6 commits. Use 'git pull' or 'git clone https://github.com/ultralytics/yolov5' to update.\n",
      "YOLOv5 🚀 v7.0-232-g1c60c53 Python-3.11.5 torch-2.1.0 CUDA:0 (NVIDIA GeForce RTX 3090, 24235MiB)\n",
      "\n",
      "\u001b[34m\u001b[1mhyperparameters: \u001b[0mlr0=0.01, lrf=0.01, momentum=0.937, weight_decay=0.0005, warmup_epochs=3.0, warmup_momentum=0.8, warmup_bias_lr=0.1, box=0.05, cls=0.5, cls_pw=1.0, obj=1.0, obj_pw=1.0, iou_t=0.2, anchor_t=4.0, fl_gamma=0.0, hsv_h=0.015, hsv_s=0.7, hsv_v=0.4, degrees=0.0, translate=0.1, scale=0.5, shear=0.0, perspective=0.0, flipud=0.0, fliplr=0.5, mosaic=1.0, mixup=0.0, copy_paste=0.0\n",
      "\u001b[34m\u001b[1mComet: \u001b[0mrun 'pip install comet_ml' to automatically track and visualize YOLOv5 🚀 runs in Comet\n",
      "\u001b[34m\u001b[1mTensorBoard: \u001b[0mStart with 'tensorboard --logdir runs/train', view at http://localhost:6006/\n",
      "^C\n",
      "Problem at: /home/fned/anaconda3/envs/pytorch/lib/python3.11/site-packages/wandb/sdk/wandb_init.py 852 getcaller\n",
      "Traceback (most recent call last):\n",
      "  File \"/home/fned/workspace/yolov5/train.py\", line 647, in <module>\n",
      "    main(opt)\n",
      "  File \"/home/fned/workspace/yolov5/train.py\", line 536, in main\n",
      "    train(opt.hyp, opt, device, callbacks)\n",
      "  File \"/home/fned/workspace/yolov5/train.py\", line 101, in train\n",
      "    loggers = Loggers(save_dir, weights, opt, hyp, LOGGER)  # loggers instance\n",
      "              ^^^^^^^^^^^^^^^^^^^^^^^^^^^^^^^^^^^^^^^^^^^^\n",
      "  File \"/home/fned/workspace/yolov5/utils/loggers/__init__.py\", line 105, in __init__\n",
      "    self.wandb = WandbLogger(self.opt)\n",
      "                 ^^^^^^^^^^^^^^^^^^^^^\n",
      "  File \"/home/fned/workspace/yolov5/utils/loggers/wandb/wandb_utils.py\", line 67, in __init__\n",
      "    self.wandb_run = wandb.init(config=opt,\n",
      "                     ^^^^^^^^^^^^^^^^^^^^^^\n",
      "  File \"/home/fned/anaconda3/envs/pytorch/lib/python3.11/site-packages/wandb/sdk/wandb_init.py\", line 1193, in init\n",
      "    raise e\n",
      "  File \"/home/fned/anaconda3/envs/pytorch/lib/python3.11/site-packages/wandb/sdk/wandb_init.py\", line 1170, in init\n",
      "    run = wi.init()\n",
      "          ^^^^^^^^^\n",
      "  File \"/home/fned/anaconda3/envs/pytorch/lib/python3.11/site-packages/wandb/sdk/wandb_init.py\", line 815, in init\n",
      "    run_start_result = run_start_handle.wait(timeout=30)\n",
      "                       ^^^^^^^^^^^^^^^^^^^^^^^^^^^^^^^^^\n",
      "  File \"/home/fned/anaconda3/envs/pytorch/lib/python3.11/site-packages/wandb/sdk/lib/mailbox.py\", line 283, in wait\n",
      "    found, abandoned = self._slot._get_and_clear(timeout=wait_timeout)\n",
      "                       ^^^^^^^^^^^^^^^^^^^^^^^^^^^^^^^^^^^^^^^^^^^^^^^\n",
      "  File \"/home/fned/anaconda3/envs/pytorch/lib/python3.11/site-packages/wandb/sdk/lib/mailbox.py\", line 130, in _get_and_clear\n",
      "    if self._wait(timeout=timeout):\n",
      "       ^^^^^^^^^^^^^^^^^^^^^^^^^^^\n",
      "  File \"/home/fned/anaconda3/envs/pytorch/lib/python3.11/site-packages/wandb/sdk/lib/mailbox.py\", line 126, in _wait\n",
      "    return self._event.wait(timeout=timeout)\n",
      "           ^^^^^^^^^^^^^^^^^^^^^^^^^^^^^^^^^\n",
      "  File \"/home/fned/anaconda3/envs/pytorch/lib/python3.11/threading.py\", line 622, in wait\n",
      "    signaled = self._cond.wait(timeout)\n",
      "               ^^^^^^^^^^^^^^^^^^^^^^^^\n",
      "  File \"/home/fned/anaconda3/envs/pytorch/lib/python3.11/threading.py\", line 324, in wait\n",
      "    gotit = waiter.acquire(True, timeout)\n",
      "            ^^^^^^^^^^^^^^^^^^^^^^^^^^^^^\n",
      "KeyboardInterrupt\n",
      "\u001b[34m\u001b[1mwandb\u001b[0m: Waiting for W&B process to finish... \u001b[31m(failed 255).\u001b[0m Press Control-C to abort syncing.\n"
     ]
    }
   ],
   "source": [
    "%cd /home/fned/workspace/yolov5/\n",
    "!python train.py --data /home/fned/workspace/datasets/fish/data.yaml\\\n",
    "    --cfg models/yolov5s.yaml\\\n",
    "    #--img 640\\\n",
    "    --epochs 300\\\n",
    "    --batch 32\\\n",
    "    --device 0\\\n",
    "    --weights yolov5s.pt\\\n",
    "    --exist-ok"
   ]
  },
  {
   "cell_type": "code",
   "execution_count": null,
   "id": "7015d1bc",
   "metadata": {},
   "outputs": [],
   "source": []
  },
  {
   "cell_type": "code",
   "execution_count": 17,
   "id": "6c46e085",
   "metadata": {},
   "outputs": [
    {
     "name": "stdout",
     "output_type": "stream",
     "text": [
      "usage: detect.py [-h] [--weights WEIGHTS [WEIGHTS ...]] [--source SOURCE]\n",
      "                 [--data DATA] [--imgsz IMGSZ [IMGSZ ...]]\n",
      "                 [--conf-thres CONF_THRES] [--iou-thres IOU_THRES]\n",
      "                 [--max-det MAX_DET] [--device DEVICE] [--view-img]\n",
      "                 [--save-txt] [--save-csv] [--save-conf] [--save-crop]\n",
      "                 [--nosave] [--classes CLASSES [CLASSES ...]] [--agnostic-nms]\n",
      "                 [--augment] [--visualize] [--update] [--project PROJECT]\n",
      "                 [--name NAME] [--exist-ok] [--line-thickness LINE_THICKNESS]\n",
      "                 [--hide-labels] [--hide-conf] [--half] [--dnn]\n",
      "                 [--vid-stride VID_STRIDE]\n",
      "detect.py: error: unrecognized arguments: --save-txtㄴ\n"
     ]
    }
   ],
   "source": [
    "!python detect.py --source /home/fned/workspace/datasets/fish/test/images\\\n",
    "    --weights /home/fned/workspace/yolov5/runs/train/exp/weights/best.pt\\\n",
    "    --img 640\\\n",
    "    --exist-ok\\\n",
    "    --save-txt\\\n",
    "    --device 0\n",
    "        "
   ]
  },
  {
   "cell_type": "code",
   "execution_count": null,
   "id": "2b834433",
   "metadata": {},
   "outputs": [],
   "source": [
    "# python main.py --yolo-subdir --path /home/fned/workspace/yolov5/runs/detect/exp --output results.json"
   ]
  },
  {
   "cell_type": "code",
   "execution_count": null,
   "id": "56e1ae1a",
   "metadata": {},
   "outputs": [],
   "source": []
  }
 ],
 "metadata": {
  "kernelspec": {
   "display_name": "Python 3 (ipykernel)",
   "language": "python",
   "name": "python3"
  },
  "language_info": {
   "codemirror_mode": {
    "name": "ipython",
    "version": 3
   },
   "file_extension": ".py",
   "mimetype": "text/x-python",
   "name": "python",
   "nbconvert_exporter": "python",
   "pygments_lexer": "ipython3",
   "version": "3.11.5"
  }
 },
 "nbformat": 4,
 "nbformat_minor": 5
}
